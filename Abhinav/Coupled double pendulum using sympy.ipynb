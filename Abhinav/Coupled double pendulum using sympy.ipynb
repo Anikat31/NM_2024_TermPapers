{
 "cells": [
  {
   "cell_type": "code",
   "execution_count": 1,
   "id": "5e509f1a",
   "metadata": {},
   "outputs": [],
   "source": [
    "import numpy as np\n",
    "import sympy as smp\n",
    "from scipy.integrate import odeint\n",
    "from scipy.integrate import solve_ivp\n",
    "import matplotlib.pyplot as plt\n",
    "from matplotlib import animation\n",
    "from mpl_toolkits.mplot3d import Axes3D\n",
    "from matplotlib.animation import PillowWriter"
   ]
  },
  {
   "cell_type": "code",
   "execution_count": 2,
   "id": "ac4d5a79",
   "metadata": {},
   "outputs": [],
   "source": [
    "t, g =smp.symbols('t, g')"
   ]
  },
  {
   "cell_type": "code",
   "execution_count": 3,
   "id": "cdf83527",
   "metadata": {},
   "outputs": [],
   "source": [
    "m1=1\n",
    "m2=4\n",
    "m3=2\n",
    "m4=5\n",
    "L1=1\n",
    "L2=2\n",
    "L3=1\n",
    "L4=3\n",
    "l=1\n",
    "g = 9.81\n",
    "k=5       #coupling constant"
   ]
  },
  {
   "cell_type": "code",
   "execution_count": 5,
   "id": "906af56b",
   "metadata": {},
   "outputs": [],
   "source": [
    "θ1, θ2, θ3, θ4 =smp.symbols(r'\\theta_1, \\theta_2, \\theta_3, \\theta_4', cls=smp.Function)"
   ]
  },
  {
   "cell_type": "code",
   "execution_count": 6,
   "id": "810bfda0",
   "metadata": {},
   "outputs": [],
   "source": [
    "θ1=θ1(t)\n",
    "θ2=θ2(t)\n",
    "θ3=θ3(t)\n",
    "θ4=θ4(t)"
   ]
  },
  {
   "cell_type": "markdown",
   "id": "b5aa3475",
   "metadata": {},
   "source": [
    "Defining derivatives and second derivatives"
   ]
  },
  {
   "cell_type": "code",
   "execution_count": 8,
   "id": "4528e9cb",
   "metadata": {},
   "outputs": [],
   "source": [
    "θ1_d = smp.diff(θ1,t)\n",
    "θ2_d = smp.diff(θ2,t)\n",
    "θ3_d = smp.diff(θ3,t)\n",
    "θ4_d = smp.diff(θ4,t)\n",
    "θ1_dd = smp.diff(θ1_d,t)\n",
    "θ2_dd = smp.diff(θ2_d,t)\n",
    "θ3_dd = smp.diff(θ3_d,t)\n",
    "θ4_dd = smp.diff(θ4_d,t)"
   ]
  },
  {
   "cell_type": "markdown",
   "id": "972c46e8",
   "metadata": {},
   "source": [
    "Defining $x_1,y_1,x_2$ and $y_2$ in terms of $\\theta_1$ and $\\theta_2$"
   ]
  },
  {
   "cell_type": "code",
   "execution_count": 10,
   "id": "c88956d0",
   "metadata": {},
   "outputs": [],
   "source": [
    "x1 = L1*smp.sin(θ1)\n",
    "y1 = -L1*smp.cos(θ1)\n",
    "x2 = L1*smp.sin(θ1) + L2*smp.sin(θ2)\n",
    "y2 = -L1*smp.cos(θ1) - L2*smp.cos(θ2)\n",
    "x3 = l + L3*smp.sin(θ3)\n",
    "y3 = -L3*smp.cos(θ3)\n",
    "x4 = l + L3*smp.sin(θ3) + L4*smp.sin(θ4)\n",
    "y4 = -L3*smp.cos(θ3) - L4*smp.cos(θ4)"
   ]
  },
  {
   "cell_type": "markdown",
   "id": "f63d76a8",
   "metadata": {},
   "source": [
    "### Defining Kinetic and Potential energy to get the Lagrangian\n",
    "The Lagrangian is\n",
    "$$L=T-V$$\n",
    "where \n",
    "$$T=\\frac{1}{2}m_1(\\dot{x}_1^2+\\dot{y}_1^2)+\\frac{1}{2}m_2(\\dot{x}_2^2+\\dot{y}_2^2)+ \\frac{1}{2}m_3(\\dot{x}_3^2+\\dot{y}_3^2)+\\frac{1}{2}m_4(\\dot{x}_4^2+\\dot{y}_4^2) $$\n",
    "and\n",
    "$$V=m_1gy_1+m_2gy_2+\\frac{1}{2}k\\left( \\sqrt{(x_1-x_3)^2+(y_1-y_3)^2}-l \\right)^2$$"
   ]
  },
  {
   "cell_type": "code",
   "execution_count": 12,
   "id": "a1aadc62",
   "metadata": {},
   "outputs": [],
   "source": [
    "# Kinetic energy\n",
    "T1 = 1/2 * m1 * (smp.diff(x1,t)**2 + smp.diff(y1,t)**2)\n",
    "T2 = 1/2 * m2 * (smp.diff(x2,t)**2 + smp.diff(y2,t)**2)\n",
    "T3 = 1/2 * m3 * (smp.diff(x3,t)**2 + smp.diff(y3,t)**2)\n",
    "T4 = 1/2 * m4 * (smp.diff(x4,t)**2 + smp.diff(y4,t)**2)\n",
    "T = T1+T2+T3+T4\n",
    "\n",
    "#Potential Energy\n",
    "V1 = m1*g*y1\n",
    "V2 = m2*g*y2\n",
    "V3 = m3*g*y3\n",
    "V4 = m3*g*y4\n",
    "V5 = 1/2 * k * (smp.sqrt((x1-x3)**2 + (y1-y2)**2) - l)**2\n",
    "V = V1+V2+V3+V4+V5\n",
    "\n",
    "#Lagrangian\n",
    "L = T-V"
   ]
  },
  {
   "cell_type": "markdown",
   "id": "d9ee8dc6",
   "metadata": {},
   "source": [
    "### Euler Lagrange equations\n",
    "\n",
    "$$\\frac{\\partial L}{\\partial \\theta_1}-\\frac{d}{dt}\\frac{\\partial L}{\\partial \\dot{\\theta}_1}=0$$\n",
    "\n",
    "$$\\frac{\\partial L}{\\partial \\theta_2}-\\frac{d}{dt}\\frac{\\partial L}{\\partial \\dot{\\theta}_2}=0$$\n",
    "\n",
    "$$\\frac{\\partial L}{\\partial \\theta_3}-\\frac{d}{dt}\\frac{\\partial L}{\\partial \\dot{\\theta}_3}=0$$\n",
    "\n",
    "$$\\frac{\\partial L}{\\partial \\theta_4}-\\frac{d}{dt}\\frac{\\partial L}{\\partial \\dot{\\theta}_4}=0$$"
   ]
  },
  {
   "cell_type": "code",
   "execution_count": 13,
   "id": "6c9c698c",
   "metadata": {},
   "outputs": [],
   "source": [
    "#Deriving the LHS of Euler Lagrange equations\n",
    "LE1 = smp.diff(L, θ1) - smp.diff(smp.diff(L, θ1_d), t).simplify()\n",
    "LE2 = smp.diff(L, θ2) - smp.diff(smp.diff(L, θ2_d), t).simplify()\n",
    "LE3 = smp.diff(L, θ3) - smp.diff(smp.diff(L, θ3_d), t).simplify()\n",
    "LE4 = smp.diff(L, θ4) - smp.diff(smp.diff(L, θ4_d), t).simplify()"
   ]
  },
  {
   "cell_type": "markdown",
   "id": "0df47e34",
   "metadata": {},
   "source": [
    "## Reducing eom in the form\n",
    "$$\\frac{d^2}{dt^2}\\theta_1= ...$$\n",
    "$$\\frac{d^2}{dt^2}\\theta_2= ...$$\n",
    "$$\\frac{d^2}{dt^2}\\theta_3= ...$$\n",
    "$$\\frac{d^2}{dt^2}\\theta_4= ...$$\n",
    "where the RHS depends of derivatives of order less than 2."
   ]
  },
  {
   "cell_type": "code",
   "execution_count": 14,
   "id": "a88eb10b",
   "metadata": {},
   "outputs": [],
   "source": [
    "sols = smp.solve([LE1, LE2, LE3, LE4], (θ1_dd, θ2_dd, θ3_dd, θ4_dd), simplify=False, rational=False)"
   ]
  },
  {
   "cell_type": "code",
   "execution_count": 15,
   "id": "994086ff",
   "metadata": {},
   "outputs": [],
   "source": [
    "# dz1dt_f = smp.lambdify((t,g,m1,m2,m3,m4,L1,L2,L3,L4,θ1,θ2,θ3,θ4,θ1_d,θ2_d,θ3_d,θ4_d), sols[θ1_dd])\n",
    "dω1dt_f = smp.lambdify((t,θ1,θ2,θ3,θ4,θ1_d,θ2_d,θ3_d,θ4_d), sols[θ1_dd])\n",
    "dω2dt_f = smp.lambdify((t,θ1,θ2,θ3,θ4,θ1_d,θ2_d,θ3_d,θ4_d), sols[θ2_dd])\n",
    "dω3dt_f = smp.lambdify((t,θ1,θ2,θ3,θ4,θ1_d,θ2_d,θ3_d,θ4_d), sols[θ3_dd])\n",
    "dω4dt_f = smp.lambdify((t,θ1,θ2,θ3,θ4,θ1_d,θ2_d,θ3_d,θ4_d), sols[θ4_dd])\n",
    "\n",
    "dθ1dt_f = smp.lambdify(θ1_d, θ1_d)\n",
    "dθ2dt_f = smp.lambdify(θ2_d, θ2_d)\n",
    "dθ3dt_f = smp.lambdify(θ3_d, θ3_d)\n",
    "dθ4dt_f = smp.lambdify(θ4_d, θ4_d)"
   ]
  },
  {
   "cell_type": "markdown",
   "id": "9b4f773d",
   "metadata": {},
   "source": [
    "## Solving eom"
   ]
  },
  {
   "cell_type": "code",
   "execution_count": 16,
   "id": "2520256f",
   "metadata": {},
   "outputs": [],
   "source": [
    "def dSdt(S, t):\n",
    "    θ1, ω1, θ2, ω2, θ3, ω3, θ4, ω4 = S\n",
    "    return [dθ1dt_f(ω1),\n",
    "           dω1dt_f(t,θ1,θ2,θ3,θ4,ω1,ω2,ω3,ω4),\n",
    "           dθ2dt_f(ω2),\n",
    "           dω2dt_f(t,θ1,θ2,θ3,θ4,ω1,ω2,ω3,ω4),\n",
    "           dθ3dt_f(ω3),\n",
    "           dω3dt_f(t,θ1,θ2,θ3,θ4,ω1,ω2,ω3,ω4),\n",
    "           dθ4dt_f(ω4),\n",
    "           dω4dt_f(t,θ1,θ2,θ3,θ4,ω1,ω2,ω3,ω4)]"
   ]
  },
  {
   "cell_type": "code",
   "execution_count": 17,
   "id": "b188e53b",
   "metadata": {},
   "outputs": [
    {
     "name": "stdout",
     "output_type": "stream",
     "text": [
      "CPU times: user 2.46 s, sys: 3.96 ms, total: 2.47 s\n",
      "Wall time: 2.47 s\n"
     ]
    }
   ],
   "source": [
    "%%time\n",
    "t = np.linspace(0, 0.1, 1000)\n",
    "dt = t[1]-t[0]\n",
    "\n",
    "θ1_ini=160*np.pi/180\n",
    "θ2_ini=175*np.pi/180\n",
    "θ3_ini=-150*np.pi/180\n",
    "θ4_ini=140*np.pi/180\n",
    "δθ2=0.01*np.pi/180\n",
    "\n",
    "sol1 = odeint(dSdt, y0=[θ1_ini,0,θ2_ini,0,θ3_ini,0,θ4_ini,0], t=t)\n",
    "sol2 = odeint(dSdt, y0=[θ1_ini,0,θ2_ini+δθ2,0,θ3_ini,0,θ4_ini,0], t=t)\n",
    "# inits=[77*np.pi/180,0,135*np.pi/180,0]\n",
    "# sol_ivp=solve_ivp(CDE, t_span=[0, 25], y0=inits, method='RK45', t_eval=t)"
   ]
  },
  {
   "cell_type": "code",
   "execution_count": 18,
   "id": "01ed337f",
   "metadata": {},
   "outputs": [],
   "source": [
    "θa1_t = sol1.T[0]\n",
    "ωa1_t = sol1.T[1]\n",
    "θa2_t = sol1.T[2]\n",
    "ωa2_t = sol1.T[3]\n",
    "θa3_t = sol1.T[4]\n",
    "ωa3_t = sol1.T[5]\n",
    "θa4_t = sol1.T[6]\n",
    "ωa4_t = sol1.T[7]\n",
    "\n",
    "θb1_t = sol2.T[0]\n",
    "ωb1_t = sol2.T[1]\n",
    "θb2_t = sol2.T[2]\n",
    "ωb2_t = sol2.T[3]\n",
    "θb3_t = sol2.T[4]\n",
    "ωb3_t = sol2.T[5]\n",
    "θb4_t = sol2.T[6]\n",
    "ωb4_t = sol2.T[7]"
   ]
  },
  {
   "cell_type": "code",
   "execution_count": 19,
   "id": "1780cb1a",
   "metadata": {},
   "outputs": [],
   "source": [
    "Δθ= np.sqrt((θb1_t-θa1_t)**2 + (θb2_t-θa2_t)**2 + (θb3_t-θa3_t)**2 + (θb4_t-θa4_t)**2 + (ωb1_t-ωa1_t)**2 + (ωb2_t-ωa2_t)**2 + (ωb3_t-ωa3_t)**2 + (ωb4_t-ωa4_t)**2)*180/np.pi "
   ]
  },
  {
   "cell_type": "markdown",
   "id": "fc72e151",
   "metadata": {},
   "source": [
    "## Typical separtion of $\\theta$'s"
   ]
  },
  {
   "cell_type": "code",
   "execution_count": 20,
   "id": "020d3d54",
   "metadata": {
    "scrolled": true
   },
   "outputs": [],
   "source": [
    "# plt.figure(figsize=(10,3))\n",
    "# plt.plot(t, θa1_t*180/np.pi,label='$θ_1$')\n",
    "# plt.plot(t, θb1_t*180/np.pi,label='$θ_1$ after perturbation')\n",
    "# plt.xlabel(r'θ\\degree')\n",
    "# plt.title(r'$θ_1=160\\degree,θ_2=175\\degree,θ_3=-150\\degree,θ_4=140\\degree,\\delta θ=5\\degree,k=5 $')\n",
    "# plt.xlabel('t')\n",
    "# plt.ylabel('θ$\\degree$')\n",
    "# plt.legend()\n",
    "# plt.grid()"
   ]
  },
  {
   "cell_type": "code",
   "execution_count": 21,
   "id": "bf446902",
   "metadata": {},
   "outputs": [],
   "source": [
    "# plt.figure(figsize=(10,3))\n",
    "# plt.plot(t, θa2_t*180/np.pi,label='$θ_2$')\n",
    "# plt.plot(t, θb2_t*180/np.pi,label='$θ_2$ after perturbation')\n",
    "# plt.xlabel(r'θ\\degree')\n",
    "# plt.title(r'$θ_1=160\\degree,θ_2=175\\degree,θ_3=-150\\degree,θ_4=140\\degree,\\delta θ=5\\degree,k=5 $')\n",
    "# plt.xlabel('t')\n",
    "# plt.ylabel('θ$\\degree$')\n",
    "# plt.legend()\n",
    "# plt.grid()"
   ]
  },
  {
   "cell_type": "code",
   "execution_count": 22,
   "id": "128e3e70",
   "metadata": {},
   "outputs": [],
   "source": [
    "# plt.figure(figsize=(10,3))\n",
    "# plt.plot(t, θa3_t*180/np.pi,label='$θ_3$')\n",
    "# plt.plot(t, θb3_t*180/np.pi,label='$θ_3$ after perturbation')\n",
    "# plt.xlabel(r'θ\\degree')\n",
    "# plt.title(r'$θ_1=160\\degree,θ_2=175\\degree,θ_3=-150\\degree,θ_4=140\\degree,\\delta θ=5\\degree,k=5 $')\n",
    "# plt.xlabel('t')\n",
    "# plt.ylabel('θ$\\degree$')\n",
    "# plt.legend()\n",
    "# plt.grid()"
   ]
  },
  {
   "cell_type": "code",
   "execution_count": 23,
   "id": "60f6331a",
   "metadata": {},
   "outputs": [],
   "source": [
    "# plt.figure(figsize=(10,3))\n",
    "# plt.plot(t, θa4_t*180/np.pi,label='$θ_4$')\n",
    "# plt.plot(t, θb4_t*180/np.pi,label='$θ_4$ after perturbation')\n",
    "# plt.xlabel(r'θ\\degree')\n",
    "# plt.title(r'$θ_1=160\\degree,θ_2=175\\degree,θ_3=-150\\degree,θ_4=140\\degree,\\delta θ=5\\degree,k=5 $')\n",
    "# plt.xlabel('t')\n",
    "# plt.ylabel('θ$\\degree$')\n",
    "# plt.legend()\n",
    "# plt.grid()"
   ]
  },
  {
   "cell_type": "markdown",
   "id": "e6232155",
   "metadata": {},
   "source": [
    "## Lyapunov exponent"
   ]
  },
  {
   "cell_type": "code",
   "execution_count": 24,
   "id": "bb4b6349",
   "metadata": {},
   "outputs": [],
   "source": [
    "λ, A=np.polyfit(t,np.log(Δθ),1)"
   ]
  },
  {
   "cell_type": "code",
   "execution_count": 25,
   "id": "384930e2",
   "metadata": {},
   "outputs": [
    {
     "data": {
      "text/plain": [
       "0.009578785310894958"
      ]
     },
     "execution_count": 25,
     "metadata": {},
     "output_type": "execute_result"
    }
   ],
   "source": [
    "np.exp(A)"
   ]
  },
  {
   "cell_type": "code",
   "execution_count": 26,
   "id": "0ba499c3",
   "metadata": {},
   "outputs": [],
   "source": [
    "fit=np.exp(A)*np.exp(λ*t)"
   ]
  },
  {
   "cell_type": "code",
   "execution_count": 27,
   "id": "50aeefe3",
   "metadata": {},
   "outputs": [
    {
     "data": {
      "text/plain": [
       "7.7639468861913405"
      ]
     },
     "execution_count": 27,
     "metadata": {},
     "output_type": "execute_result"
    }
   ],
   "source": [
    "λ"
   ]
  },
  {
   "cell_type": "code",
   "execution_count": 28,
   "id": "aac533c6",
   "metadata": {},
   "outputs": [],
   "source": [
    "MSE=(1/len(t))*np.sum((fit-Δθ)**2)"
   ]
  },
  {
   "cell_type": "code",
   "execution_count": 29,
   "id": "22117bc1",
   "metadata": {},
   "outputs": [
    {
     "data": {
      "text/plain": [
       "1.1124918728496937e-07"
      ]
     },
     "execution_count": 29,
     "metadata": {},
     "output_type": "execute_result"
    }
   ],
   "source": [
    "MSE"
   ]
  },
  {
   "cell_type": "code",
   "execution_count": 36,
   "id": "f991b738",
   "metadata": {},
   "outputs": [
    {
     "data": {
      "image/png": "[encoded data removed]",
      "text/plain": [
       "<Figure size 640x480 with 1 Axes>"
      ]
     },
     "metadata": {},
     "output_type": "display_data"
    }
   ],
   "source": [
    "plt.plot(t, Δθ,'.',label='Numerical')\n",
    "plt.plot(t, fit, label='Exponential fit: $\\Delta θ(t)=\\Delta θ_0\\exp(\\lambda t)$')\n",
    "plt.xlabel('t')\n",
    "plt.ylabel('$\\delta$ θ$\\degree$')\n",
    "plt.text(0,0.018, 'λ='+str(λ), fontsize = 10)\n",
    "plt.text(0,0.017, 'MSE='+str(MSE), fontsize = 10)\n",
    "plt.title('k='+str(k))\n",
    "plt.grid()\n",
    "plt.legend()\n",
    "plt.show()"
   ]
  },
  {
   "cell_type": "code",
   "execution_count": null,
   "id": "076d3318",
   "metadata": {},
   "outputs": [],
   "source": []
  },
  {
   "cell_type": "code",
   "execution_count": null,
   "id": "7bd4379f",
   "metadata": {},
   "outputs": [],
   "source": []
  }
 ],
 "metadata": {
  "kernelspec": {
   "display_name": "Python 3 (ipykernel)",
   "language": "python",
   "name": "python3"
  },
  "language_info": {
   "codemirror_mode": {
    "name": "ipython",
    "version": 3
   },
   "file_extension": ".py",
   "mimetype": "text/x-python",
   "name": "python",
   "nbconvert_exporter": "python",
   "pygments_lexer": "ipython3",
   "version": "3.9.16"
  }
 },
 "nbformat": 4,
 "nbformat_minor": 5
}
